{
 "cells": [
  {
   "cell_type": "markdown",
   "id": "48fb8b47",
   "metadata": {},
   "source": [
    "### Import Dependencies"
   ]
  },
  {
   "cell_type": "code",
   "execution_count": 19,
   "id": "9b14daec",
   "metadata": {},
   "outputs": [],
   "source": [
    "import pandas as pd\n",
    "import matplotlib.pyplot as pyplot"
   ]
  },
  {
   "cell_type": "markdown",
   "id": "6e995464",
   "metadata": {},
   "source": [
    "### Import CSV files"
   ]
  },
  {
   "cell_type": "code",
   "execution_count": 20,
   "id": "834ec8fe",
   "metadata": {},
   "outputs": [],
   "source": [
    "#Covid vaccinations per country\n",
    "df = pd.read_csv('./Resources/country_vaccinations.csv')\n",
    "#df"
   ]
  },
  {
   "cell_type": "markdown",
   "id": "05c15aec",
   "metadata": {},
   "source": [
    "### Import JSON data from API site"
   ]
  },
  {
   "cell_type": "code",
   "execution_count": 21,
   "id": "384eccd4",
   "metadata": {},
   "outputs": [],
   "source": [
    "#to do"
   ]
  },
  {
   "cell_type": "code",
   "execution_count": 22,
   "id": "c7d14111",
   "metadata": {},
   "outputs": [
    {
     "data": {
      "text/html": [
       "<div>\n",
       "<style scoped>\n",
       "    .dataframe tbody tr th:only-of-type {\n",
       "        vertical-align: middle;\n",
       "    }\n",
       "\n",
       "    .dataframe tbody tr th {\n",
       "        vertical-align: top;\n",
       "    }\n",
       "\n",
       "    .dataframe thead th {\n",
       "        text-align: right;\n",
       "    }\n",
       "</style>\n",
       "<table border=\"1\" class=\"dataframe\">\n",
       "  <thead>\n",
       "    <tr style=\"text-align: right;\">\n",
       "      <th></th>\n",
       "      <th>total_vaccinations</th>\n",
       "      <th>people_fully_vaccinated_per_hundred</th>\n",
       "    </tr>\n",
       "    <tr>\n",
       "      <th>iso_code</th>\n",
       "      <th></th>\n",
       "      <th></th>\n",
       "    </tr>\n",
       "  </thead>\n",
       "  <tbody>\n",
       "    <tr>\n",
       "      <th>ABW</th>\n",
       "      <td>73360.0</td>\n",
       "      <td>18.84</td>\n",
       "    </tr>\n",
       "    <tr>\n",
       "      <th>AIA</th>\n",
       "      <td>6898.0</td>\n",
       "      <td>5.22</td>\n",
       "    </tr>\n",
       "    <tr>\n",
       "      <th>ALB</th>\n",
       "      <td>400064.0</td>\n",
       "      <td>0.02</td>\n",
       "    </tr>\n",
       "    <tr>\n",
       "      <th>AND</th>\n",
       "      <td>26414.0</td>\n",
       "      <td>6.06</td>\n",
       "    </tr>\n",
       "    <tr>\n",
       "      <th>ARE</th>\n",
       "      <td>10336214.0</td>\n",
       "      <td>38.79</td>\n",
       "    </tr>\n",
       "    <tr>\n",
       "      <th>...</th>\n",
       "      <td>...</td>\n",
       "      <td>...</td>\n",
       "    </tr>\n",
       "    <tr>\n",
       "      <th>TUR</th>\n",
       "      <td>21678461.0</td>\n",
       "      <td>9.84</td>\n",
       "    </tr>\n",
       "    <tr>\n",
       "      <th>URY</th>\n",
       "      <td>1695351.0</td>\n",
       "      <td>15.95</td>\n",
       "    </tr>\n",
       "    <tr>\n",
       "      <th>USA</th>\n",
       "      <td>232407669.0</td>\n",
       "      <td>28.93</td>\n",
       "    </tr>\n",
       "    <tr>\n",
       "      <th>ZAF</th>\n",
       "      <td>292623.0</td>\n",
       "      <td>0.49</td>\n",
       "    </tr>\n",
       "    <tr>\n",
       "      <th>ZWE</th>\n",
       "      <td>433939.0</td>\n",
       "      <td>0.43</td>\n",
       "    </tr>\n",
       "  </tbody>\n",
       "</table>\n",
       "<p>121 rows × 2 columns</p>\n",
       "</div>"
      ],
      "text/plain": [
       "          total_vaccinations  people_fully_vaccinated_per_hundred\n",
       "iso_code                                                         \n",
       "ABW                  73360.0                                18.84\n",
       "AIA                   6898.0                                 5.22\n",
       "ALB                 400064.0                                 0.02\n",
       "AND                  26414.0                                 6.06\n",
       "ARE               10336214.0                                38.79\n",
       "...                      ...                                  ...\n",
       "TUR               21678461.0                                 9.84\n",
       "URY                1695351.0                                15.95\n",
       "USA              232407669.0                                28.93\n",
       "ZAF                 292623.0                                 0.49\n",
       "ZWE                 433939.0                                 0.43\n",
       "\n",
       "[121 rows x 2 columns]"
      ]
     },
     "execution_count": 22,
     "metadata": {},
     "output_type": "execute_result"
    }
   ],
   "source": [
    "# Data munging\n",
    "countryVacc_df = df.groupby('iso_code').agg({'total_vaccinations':'max','people_fully_vaccinated_per_hundred':'max'}).dropna()\n",
    "countryVacc_df = countryVacc_df[(countryVacc_df['people_fully_vaccinated_per_hundred'] != 0)]\n",
    "\n",
    "countryVacc_df"
   ]
  },
  {
   "cell_type": "code",
   "execution_count": 23,
   "id": "fef50f84",
   "metadata": {},
   "outputs": [
    {
     "name": "stdout",
     "output_type": "stream",
     "text": [
      "<class 'pandas.core.frame.DataFrame'>\n",
      "RangeIndex: 121 entries, 0 to 120\n",
      "Data columns (total 3 columns):\n",
      " #   Column                               Non-Null Count  Dtype  \n",
      "---  ------                               --------------  -----  \n",
      " 0   iso_code                             121 non-null    object \n",
      " 1   total_vaccinations                   121 non-null    float64\n",
      " 2   people_fully_vaccinated_per_hundred  121 non-null    float64\n",
      "dtypes: float64(2), object(1)\n",
      "memory usage: 3.0+ KB\n"
     ]
    }
   ],
   "source": [
    "vaccination_df= countryVacc_df.reset_index()\n",
    "vaccination_df.info()"
   ]
  },
  {
   "cell_type": "code",
   "execution_count": 24,
   "id": "37c7d7b0",
   "metadata": {},
   "outputs": [
    {
     "data": {
      "text/html": [
       "<div>\n",
       "<style scoped>\n",
       "    .dataframe tbody tr th:only-of-type {\n",
       "        vertical-align: middle;\n",
       "    }\n",
       "\n",
       "    .dataframe tbody tr th {\n",
       "        vertical-align: top;\n",
       "    }\n",
       "\n",
       "    .dataframe thead th {\n",
       "        text-align: right;\n",
       "    }\n",
       "</style>\n",
       "<table border=\"1\" class=\"dataframe\">\n",
       "  <thead>\n",
       "    <tr style=\"text-align: right;\">\n",
       "      <th></th>\n",
       "      <th>iso_code</th>\n",
       "      <th>total_vaccinations</th>\n",
       "      <th>people_fully_vaccinated_per_hundred</th>\n",
       "    </tr>\n",
       "  </thead>\n",
       "  <tbody>\n",
       "    <tr>\n",
       "      <th>0</th>\n",
       "      <td>ABW</td>\n",
       "      <td>73360.0</td>\n",
       "      <td>18.84</td>\n",
       "    </tr>\n",
       "    <tr>\n",
       "      <th>1</th>\n",
       "      <td>AIA</td>\n",
       "      <td>6898.0</td>\n",
       "      <td>5.22</td>\n",
       "    </tr>\n",
       "  </tbody>\n",
       "</table>\n",
       "</div>"
      ],
      "text/plain": [
       "  iso_code  total_vaccinations  people_fully_vaccinated_per_hundred\n",
       "0      ABW             73360.0                                18.84\n",
       "1      AIA              6898.0                                 5.22"
      ]
     },
     "execution_count": 24,
     "metadata": {},
     "output_type": "execute_result"
    }
   ],
   "source": [
    "vaccination_df.head(2)"
   ]
  },
  {
   "cell_type": "code",
   "execution_count": 25,
   "id": "59d5fa87",
   "metadata": {},
   "outputs": [],
   "source": [
    "vaccination_df.to_csv('./Resources/iso_code.csv', index=False)"
   ]
  },
  {
   "cell_type": "code",
   "execution_count": 26,
   "id": "5672edfe",
   "metadata": {},
   "outputs": [
    {
     "data": {
      "text/plain": [
       "<matplotlib.axes._subplots.AxesSubplot at 0x2059ac1f438>"
      ]
     },
     "execution_count": 26,
     "metadata": {},
     "output_type": "execute_result"
    },
    {
     "data": {
      "image/png": "[encoded data removed]",
      "text/plain": [
       "<Figure size 432x288 with 1 Axes>"
      ]
     },
     "metadata": {
      "needs_background": "light"
     },
     "output_type": "display_data"
    }
   ],
   "source": [
    "countryVacc_df['people_fully_vaccinated_per_hundred'].sort_values().tail(5).plot(kind='bar')"
   ]
  },
  {
   "cell_type": "code",
   "execution_count": 27,
   "id": "1113a313",
   "metadata": {},
   "outputs": [
    {
     "data": {
      "text/plain": [
       "<matplotlib.axes._subplots.AxesSubplot at 0x2059ac10160>"
      ]
     },
     "execution_count": 27,
     "metadata": {},
     "output_type": "execute_result"
    },
    {
     "data": {
      "image/png": "[encoded data removed]",
      "text/plain": [
       "<Figure size 432x288 with 1 Axes>"
      ]
     },
     "metadata": {
      "needs_background": "light"
     },
     "output_type": "display_data"
    }
   ],
   "source": [
    "countryVacc_df['people_fully_vaccinated_per_hundred'].sort_values().head(5).plot(kind='bar')"
   ]
  },
  {
   "cell_type": "code",
   "execution_count": null,
   "id": "5b4d2d65",
   "metadata": {},
   "outputs": [],
   "source": []
  },
  {
   "cell_type": "code",
   "execution_count": null,
   "id": "98b3a847",
   "metadata": {},
   "outputs": [],
   "source": []
  },
  {
   "cell_type": "code",
   "execution_count": null,
   "id": "fedc164b",
   "metadata": {},
   "outputs": [],
   "source": []
  },
  {
   "cell_type": "code",
   "execution_count": null,
   "id": "08933e7b",
   "metadata": {},
   "outputs": [],
   "source": []
  },
  {
   "cell_type": "code",
   "execution_count": null,
   "id": "ca0b31d2",
   "metadata": {},
   "outputs": [],
   "source": []
  }
 ],
 "metadata": {
  "kernelspec": {
   "display_name": "Python 3",
   "language": "python",
   "name": "python3"
  },
  "language_info": {
   "codemirror_mode": {
    "name": "ipython",
    "version": 3
   },
   "file_extension": ".py",
   "mimetype": "text/x-python",
   "name": "python",
   "nbconvert_exporter": "python",
   "pygments_lexer": "ipython3",
   "version": "3.6.10"
  }
 },
 "nbformat": 4,
 "nbformat_minor": 5
}
