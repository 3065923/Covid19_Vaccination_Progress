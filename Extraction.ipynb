{
 "cells": [
  {
   "cell_type": "markdown",
   "id": "9be26b3e",
   "metadata": {},
   "source": [
    "# Covid 19 Vaccine Progress Indicators Analysis"
   ]
  },
  {
   "cell_type": "markdown",
   "id": "eece5821",
   "metadata": {},
   "source": [
    "### Import Dependencies"
   ]
  },
  {
   "cell_type": "code",
   "execution_count": 1,
   "id": "9fc49160",
   "metadata": {},
   "outputs": [],
   "source": [
    "#Data Cleaning\n",
    "import pandas as pd\n",
    "import numpy as np\n",
    "from scipy.stats import linregress\n",
    "\n",
    "#Data Visualization\n",
    "import matplotlib.pyplot as plt\n",
    "import seaborn as sn\n",
    "\n",
    "# Data Extraction\n",
    "import requests\n",
    "import json\n",
    "import time"
   ]
  },
  {
   "cell_type": "markdown",
   "id": "92ade929",
   "metadata": {},
   "source": [
    "## Import CSV file"
   ]
  },
  {
   "cell_type": "code",
   "execution_count": 2,
   "id": "b8ee4434",
   "metadata": {},
   "outputs": [],
   "source": [
    "#Covid vaccinations per country\n",
    "df = pd.read_csv('./Resources/country_vaccinations.csv')"
   ]
  },
  {
   "cell_type": "markdown",
   "id": "082e9f49",
   "metadata": {},
   "source": [
    "### CSV Data Cleaning"
   ]
  },
  {
   "cell_type": "code",
   "execution_count": 3,
   "id": "f6a051fd",
   "metadata": {},
   "outputs": [],
   "source": [
    "# Group by country iso code and find the most recent count of people vaccinated / percentage of people vaccinated\n",
    "countryVacc_df = df.groupby('iso_code').agg({'total_vaccinations':'max','people_fully_vaccinated_per_hundred':'max'}).dropna()\n",
    "countryVacc_df = countryVacc_df[(countryVacc_df['people_fully_vaccinated_per_hundred'] != 0)]"
   ]
  },
  {
   "cell_type": "code",
   "execution_count": 4,
   "id": "ae4d8ffb",
   "metadata": {},
   "outputs": [],
   "source": [
    "# Reset index to include iso code as value\n",
    "vaccination_df= countryVacc_df.reset_index()"
   ]
  },
  {
   "cell_type": "code",
   "execution_count": 5,
   "id": "3ee639bc",
   "metadata": {},
   "outputs": [],
   "source": [
    "#Save to CSV file for later access\n",
    "vaccination_df.to_csv('./Resources/iso_code.csv', index=False)"
   ]
  },
  {
   "cell_type": "markdown",
   "id": "505c61eb",
   "metadata": {},
   "source": [
    "## Import World Bank JSON data with API"
   ]
  },
  {
   "cell_type": "code",
   "execution_count": 6,
   "id": "3e172c9c",
   "metadata": {},
   "outputs": [],
   "source": [
    "#read csv of iso codes\n",
    "file = './Resources/iso_code.csv'\n",
    "iso_code_df = pd.read_csv(file)"
   ]
  },
  {
   "cell_type": "code",
   "execution_count": 7,
   "id": "3d0e5388",
   "metadata": {},
   "outputs": [],
   "source": [
    "#adding empty columns for indicator values to add to dataframe\n",
    "iso_code_df['GDP'] = ''\n",
    "iso_code_df['Total_Pop'] = ''\n",
    "iso_code_df['Pop_Den'] = ''\n",
    "iso_code_df['health_exp'] = ''"
   ]
  },
  {
   "cell_type": "code",
   "execution_count": 8,
   "id": "0499cc25",
   "metadata": {},
   "outputs": [
    {
     "name": "stdout",
     "output_type": "stream",
     "text": [
      "Error AIA,NY.GDP.MKTP.CD data missing.d in 0.3933s.\n",
      "Error FLK,NY.GDP.MKTP.CD data missing.d in 0.2120s.\n",
      "Error GGY,NY.GDP.MKTP.CD data missing.d in 0.1810s.\n",
      "Error JEY,NY.GDP.MKTP.CD data missing.d in 0.2054s.\n",
      "Error MSR,NY.GDP.MKTP.CD data missing.d in 0.2022s.\n",
      "Error OWID_CYN,NY.GDP.MKTP.CD data missing.0.1690s.\n",
      "Error OWID_ENG,NY.GDP.MKTP.CD data missing.\n",
      "Error OWID_NIR,NY.GDP.MKTP.CD data missing.\n",
      "Error OWID_SCT,NY.GDP.MKTP.CD data missing.\n",
      "Error OWID_WLS,NY.GDP.MKTP.CD data missing.\n",
      "Error SHN,NY.GDP.MKTP.CD data missing.d in 0.3230s.\n",
      "Error AIA,SP.POP.TOTL. data missing.d in 0.2276s.s.\n",
      "Error FLK,SP.POP.TOTL. data missing.d in 0.1921s.\n",
      "Error GGY,SP.POP.TOTL. data missing.d in 0.1572s.\n",
      "Error JEY,SP.POP.TOTL. data missing.d in 0.1874s.\n",
      "Error MSR,SP.POP.TOTL. data missing.d in 0.1469s.\n",
      "Error OWID_CYN,SP.POP.TOTL. data missing.0.1690s.\n",
      "Error OWID_ENG,SP.POP.TOTL. data missing.\n",
      "Error OWID_NIR,SP.POP.TOTL. data missing.\n",
      "Error OWID_SCT,SP.POP.TOTL. data missing.\n",
      "Error OWID_WLS,SP.POP.TOTL. data missing.\n",
      "Error SHN,SP.POP.TOTL. data missing.d in 0.3343s.\n",
      "Error AIA,EN.POP.DNST data missing.d in 0.6347s..\n",
      "Error FLK,EN.POP.DNST data missing.d in 0.6118s.\n",
      "Error GGY,EN.POP.DNST data missing.d in 0.6140s.\n",
      "Error JEY,EN.POP.DNST data missing.d in 0.3913s.\n",
      "Error MSR,EN.POP.DNST data missing.d in 0.6159s.\n",
      "Error OWID_CYN,EN.POP.DNST data missing.0.4277s.\n",
      "Error OWID_ENG,EN.POP.DNST data missing.\n",
      "Error OWID_NIR,EN.POP.DNST data missing.\n",
      "Error OWID_SCT,EN.POP.DNST data missing.\n",
      "Error OWID_WLS,EN.POP.DNST data missing.\n",
      "Error SHN,EN.POP.DNST data missing.d in 0.4024s.\n",
      "Error AIA,SH.XPD.PVTD.CH.ZS data missing.d in 0.5609s.\n",
      "Error FLK,SH.XPD.PVTD.CH.ZS data missing.d in 0.7104s.\n",
      "Error GGY,SH.XPD.PVTD.CH.ZS data missing.d in 0.5562s.\n",
      "Error JEY,SH.XPD.PVTD.CH.ZS data missing.d in 0.3332s.\n",
      "Error KHM,SH.XPD.PVTD.CH.ZS data missing.d in 0.9228s.\n",
      "Error MSR,SH.XPD.PVTD.CH.ZS data missing.d in 0.3591s.\n",
      "Error OWID_CYN,SH.XPD.PVTD.CH.ZS data missing.0.4536s.\n",
      "Error OWID_ENG,SH.XPD.PVTD.CH.ZS data missing.\n",
      "Error OWID_NIR,SH.XPD.PVTD.CH.ZS data missing.\n",
      "Error OWID_SCT,SH.XPD.PVTD.CH.ZS data missing.\n",
      "Error OWID_WLS,SH.XPD.PVTD.CH.ZS data missing.\n",
      "Error SHN,SH.XPD.PVTD.CH.ZS data missing.d in 0.6140s.\n",
      "ZWE,SH.XPD.PVTD.CH.ZS: Extraction finished in 0.6753s.\r"
     ]
    }
   ],
   "source": [
    "# JSON requests from world bank database\n",
    "\n",
    "# Indicators and date we want to request\n",
    "variable = ['NY.GDP.MKTP.CD','SP.POP.TOTL.','EN.POP.DNST','SH.XPD.PVTD.CH.ZS']\n",
    "date = '2018'\n",
    "\n",
    "\n",
    "for j, var in enumerate(variable): # loop through all indicators requested\n",
    "    for i, iso in enumerate(iso_code_df['iso_code']): # Loop through all iso codes in dataframe\n",
    "        try:\n",
    "            #keep track of how long the request takes\n",
    "            tic = time.perf_counter()\n",
    "            \n",
    "            #base url for making indicator requests\n",
    "            base_url = f'http://api.worldbank.org/v2/country/{iso}/indicator/{var}?date={date}&format=json'\n",
    "            \n",
    "            #request the modified url and recast as json\n",
    "            response = requests.get(base_url).json()\n",
    "            \n",
    "            #index json object\n",
    "            responseJSON = response[1][0]['value']\n",
    "            \n",
    "            #add response to dataframe\n",
    "            iso_code_df.iloc[i,3+j] = responseJSON\n",
    "            \n",
    "            #stop time\n",
    "            toc = time.perf_counter()\n",
    "            \n",
    "            #print statement to monitor progress\n",
    "            print(f'{iso},{var}: Extraction finished in {toc - tic:0.4f}s.',end='\\r')\n",
    "\n",
    "        except: \n",
    "            print(f'Error {iso},{var} data missing, time:{toc - tic:0.4f}s.')\n",
    " "
   ]
  },
  {
   "cell_type": "markdown",
   "id": "79917c8b",
   "metadata": {},
   "source": [
    "### Data Cleaning"
   ]
  },
  {
   "cell_type": "code",
   "execution_count": 9,
   "id": "9742986a",
   "metadata": {},
   "outputs": [],
   "source": [
    "# Drop rows with missing values\n",
    "iso_code_df.replace('',np.NaN,inplace=True)\n",
    "iso_cleaned_df = iso_code_df.dropna()"
   ]
  },
  {
   "cell_type": "code",
   "execution_count": 10,
   "id": "9403a842",
   "metadata": {},
   "outputs": [
    {
     "data": {
      "text/html": [
       "<div>\n",
       "<style scoped>\n",
       "    .dataframe tbody tr th:only-of-type {\n",
       "        vertical-align: middle;\n",
       "    }\n",
       "\n",
       "    .dataframe tbody tr th {\n",
       "        vertical-align: top;\n",
       "    }\n",
       "\n",
       "    .dataframe thead th {\n",
       "        text-align: right;\n",
       "    }\n",
       "</style>\n",
       "<table border=\"1\" class=\"dataframe\">\n",
       "  <thead>\n",
       "    <tr style=\"text-align: right;\">\n",
       "      <th></th>\n",
       "      <th>iso_code</th>\n",
       "      <th>total_vaccinations</th>\n",
       "      <th>people_fully_vaccinated_per_hundred</th>\n",
       "      <th>GDP</th>\n",
       "      <th>Total_Pop</th>\n",
       "      <th>Pop_Den</th>\n",
       "      <th>health_exp</th>\n",
       "    </tr>\n",
       "  </thead>\n",
       "  <tbody>\n",
       "    <tr>\n",
       "      <th>2</th>\n",
       "      <td>ALB</td>\n",
       "      <td>400064.0</td>\n",
       "      <td>0.02</td>\n",
       "      <td>1.514702e+10</td>\n",
       "      <td>2866376.0</td>\n",
       "      <td>104.612263</td>\n",
       "      <td>44.657787</td>\n",
       "    </tr>\n",
       "    <tr>\n",
       "      <th>3</th>\n",
       "      <td>AND</td>\n",
       "      <td>26414.0</td>\n",
       "      <td>6.06</td>\n",
       "      <td>3.218316e+09</td>\n",
       "      <td>77006.0</td>\n",
       "      <td>163.842553</td>\n",
       "      <td>32.065220</td>\n",
       "    </tr>\n",
       "    <tr>\n",
       "      <th>4</th>\n",
       "      <td>ARE</td>\n",
       "      <td>10336214.0</td>\n",
       "      <td>38.79</td>\n",
       "      <td>4.222150e+11</td>\n",
       "      <td>9630959.0</td>\n",
       "      <td>135.609110</td>\n",
       "      <td>48.421539</td>\n",
       "    </tr>\n",
       "    <tr>\n",
       "      <th>5</th>\n",
       "      <td>ARG</td>\n",
       "      <td>7386650.0</td>\n",
       "      <td>1.95</td>\n",
       "      <td>5.176267e+11</td>\n",
       "      <td>44494502.0</td>\n",
       "      <td>16.258510</td>\n",
       "      <td>38.290127</td>\n",
       "    </tr>\n",
       "    <tr>\n",
       "      <th>6</th>\n",
       "      <td>AUT</td>\n",
       "      <td>2863389.0</td>\n",
       "      <td>8.73</td>\n",
       "      <td>4.550949e+11</td>\n",
       "      <td>8840521.0</td>\n",
       "      <td>107.131859</td>\n",
       "      <td>26.914829</td>\n",
       "    </tr>\n",
       "    <tr>\n",
       "      <th>7</th>\n",
       "      <td>AZE</td>\n",
       "      <td>1440243.0</td>\n",
       "      <td>4.87</td>\n",
       "      <td>4.711294e+10</td>\n",
       "      <td>9939771.0</td>\n",
       "      <td>120.257592</td>\n",
       "      <td>72.804810</td>\n",
       "    </tr>\n",
       "    <tr>\n",
       "      <th>8</th>\n",
       "      <td>BEL</td>\n",
       "      <td>3563371.0</td>\n",
       "      <td>6.60</td>\n",
       "      <td>5.437344e+11</td>\n",
       "      <td>11427054.0</td>\n",
       "      <td>377.379590</td>\n",
       "      <td>24.215460</td>\n",
       "    </tr>\n",
       "    <tr>\n",
       "      <th>9</th>\n",
       "      <td>BGD</td>\n",
       "      <td>7954176.0</td>\n",
       "      <td>1.31</td>\n",
       "      <td>2.740391e+11</td>\n",
       "      <td>161356039.0</td>\n",
       "      <td>1239.579312</td>\n",
       "      <td>76.501839</td>\n",
       "    </tr>\n",
       "    <tr>\n",
       "      <th>10</th>\n",
       "      <td>BGR</td>\n",
       "      <td>750899.0</td>\n",
       "      <td>2.56</td>\n",
       "      <td>6.623016e+10</td>\n",
       "      <td>7025037.0</td>\n",
       "      <td>64.711100</td>\n",
       "      <td>42.363476</td>\n",
       "    </tr>\n",
       "    <tr>\n",
       "      <th>11</th>\n",
       "      <td>BHR</td>\n",
       "      <td>1206763.0</td>\n",
       "      <td>31.14</td>\n",
       "      <td>3.765250e+10</td>\n",
       "      <td>1569439.0</td>\n",
       "      <td>2012.101282</td>\n",
       "      <td>41.167648</td>\n",
       "    </tr>\n",
       "  </tbody>\n",
       "</table>\n",
       "</div>"
      ],
      "text/plain": [
       "   iso_code  total_vaccinations  people_fully_vaccinated_per_hundred  \\\n",
       "2       ALB            400064.0                                 0.02   \n",
       "3       AND             26414.0                                 6.06   \n",
       "4       ARE          10336214.0                                38.79   \n",
       "5       ARG           7386650.0                                 1.95   \n",
       "6       AUT           2863389.0                                 8.73   \n",
       "7       AZE           1440243.0                                 4.87   \n",
       "8       BEL           3563371.0                                 6.60   \n",
       "9       BGD           7954176.0                                 1.31   \n",
       "10      BGR            750899.0                                 2.56   \n",
       "11      BHR           1206763.0                                31.14   \n",
       "\n",
       "             GDP    Total_Pop      Pop_Den  health_exp  \n",
       "2   1.514702e+10    2866376.0   104.612263   44.657787  \n",
       "3   3.218316e+09      77006.0   163.842553   32.065220  \n",
       "4   4.222150e+11    9630959.0   135.609110   48.421539  \n",
       "5   5.176267e+11   44494502.0    16.258510   38.290127  \n",
       "6   4.550949e+11    8840521.0   107.131859   26.914829  \n",
       "7   4.711294e+10    9939771.0   120.257592   72.804810  \n",
       "8   5.437344e+11   11427054.0   377.379590   24.215460  \n",
       "9   2.740391e+11  161356039.0  1239.579312   76.501839  \n",
       "10  6.623016e+10    7025037.0    64.711100   42.363476  \n",
       "11  3.765250e+10    1569439.0  2012.101282   41.167648  "
      ]
     },
     "execution_count": 10,
     "metadata": {},
     "output_type": "execute_result"
    }
   ],
   "source": [
    "iso_cleaned_df.head(10)"
   ]
  },
  {
   "cell_type": "markdown",
   "id": "10d5822e",
   "metadata": {},
   "source": [
    "### Save to CSV for future use"
   ]
  },
  {
   "cell_type": "code",
   "execution_count": 11,
   "id": "16c6bcc0",
   "metadata": {},
   "outputs": [],
   "source": [
    "#Save df to csv\n",
    "iso_cleaned_df.to_csv('./Resources/isoDataFinal.csv',index=False)"
   ]
  }
 ],
 "metadata": {
  "kernelspec": {
   "display_name": "Python 3",
   "language": "python",
   "name": "python3"
  },
  "language_info": {
   "codemirror_mode": {
    "name": "ipython",
    "version": 3
   },
   "file_extension": ".py",
   "mimetype": "text/x-python",
   "name": "python",
   "nbconvert_exporter": "python",
   "pygments_lexer": "ipython3",
   "version": "3.6.10"
  }
 },
 "nbformat": 4,
 "nbformat_minor": 5
}
