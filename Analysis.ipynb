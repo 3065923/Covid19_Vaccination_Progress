{
 "cells": [
  {
   "cell_type": "markdown",
   "id": "7efc6924",
   "metadata": {},
   "source": [
    "## Data Analysis"
   ]
  },
  {
   "cell_type": "markdown",
   "id": "2a9e750c",
   "metadata": {},
   "source": [
    "### Import Modules"
   ]
  },
  {
   "cell_type": "code",
   "execution_count": 1,
   "id": "0cf3ee5c",
   "metadata": {},
   "outputs": [],
   "source": [
    "#Data Cleaning\n",
    "import pandas as pd\n",
    "import numpy as np\n",
    "from scipy.stats import linregress\n",
    "\n",
    "#Data Visualization\n",
    "import matplotlib.pyplot as plt\n",
    "import seaborn as sn\n",
    "\n",
    "# Data Extraction\n",
    "import requests\n",
    "import json"
   ]
  },
  {
   "cell_type": "markdown",
   "id": "ad9958ec",
   "metadata": {},
   "source": [
    "### Load Data from CSV"
   ]
  },
  {
   "cell_type": "code",
   "execution_count": 2,
   "id": "e752e0d4",
   "metadata": {},
   "outputs": [],
   "source": [
    "iso_cleaned_df = pd.read_csv('./Resources/isoDataFinal.csv')"
   ]
  },
  {
   "cell_type": "code",
   "execution_count": 3,
   "id": "adf786d3",
   "metadata": {},
   "outputs": [
    {
     "data": {
      "text/html": [
       "<div>\n",
       "<style scoped>\n",
       "    .dataframe tbody tr th:only-of-type {\n",
       "        vertical-align: middle;\n",
       "    }\n",
       "\n",
       "    .dataframe tbody tr th {\n",
       "        vertical-align: top;\n",
       "    }\n",
       "\n",
       "    .dataframe thead th {\n",
       "        text-align: right;\n",
       "    }\n",
       "</style>\n",
       "<table border=\"1\" class=\"dataframe\">\n",
       "  <thead>\n",
       "    <tr style=\"text-align: right;\">\n",
       "      <th></th>\n",
       "      <th>iso_code</th>\n",
       "      <th>total_vaccinations</th>\n",
       "      <th>people_fully_vaccinated_per_hundred</th>\n",
       "      <th>GDP</th>\n",
       "      <th>Total_Pop</th>\n",
       "      <th>Pop_Den</th>\n",
       "      <th>health_exp</th>\n",
       "    </tr>\n",
       "  </thead>\n",
       "  <tbody>\n",
       "    <tr>\n",
       "      <th>0</th>\n",
       "      <td>ALB</td>\n",
       "      <td>400064.0</td>\n",
       "      <td>0.02</td>\n",
       "      <td>1.514702e+10</td>\n",
       "      <td>2866376.0</td>\n",
       "      <td>104.612263</td>\n",
       "      <td>44.657787</td>\n",
       "    </tr>\n",
       "    <tr>\n",
       "      <th>1</th>\n",
       "      <td>AND</td>\n",
       "      <td>26414.0</td>\n",
       "      <td>6.06</td>\n",
       "      <td>3.218316e+09</td>\n",
       "      <td>77006.0</td>\n",
       "      <td>163.842553</td>\n",
       "      <td>32.065220</td>\n",
       "    </tr>\n",
       "    <tr>\n",
       "      <th>2</th>\n",
       "      <td>ARE</td>\n",
       "      <td>10336214.0</td>\n",
       "      <td>38.79</td>\n",
       "      <td>4.222150e+11</td>\n",
       "      <td>9630959.0</td>\n",
       "      <td>135.609110</td>\n",
       "      <td>48.421539</td>\n",
       "    </tr>\n",
       "    <tr>\n",
       "      <th>3</th>\n",
       "      <td>ARG</td>\n",
       "      <td>7386650.0</td>\n",
       "      <td>1.95</td>\n",
       "      <td>5.176267e+11</td>\n",
       "      <td>44494502.0</td>\n",
       "      <td>16.258510</td>\n",
       "      <td>38.290127</td>\n",
       "    </tr>\n",
       "    <tr>\n",
       "      <th>4</th>\n",
       "      <td>AUT</td>\n",
       "      <td>2863389.0</td>\n",
       "      <td>8.73</td>\n",
       "      <td>4.550949e+11</td>\n",
       "      <td>8840521.0</td>\n",
       "      <td>107.131859</td>\n",
       "      <td>26.914829</td>\n",
       "    </tr>\n",
       "    <tr>\n",
       "      <th>5</th>\n",
       "      <td>AZE</td>\n",
       "      <td>1440243.0</td>\n",
       "      <td>4.87</td>\n",
       "      <td>4.711294e+10</td>\n",
       "      <td>9939771.0</td>\n",
       "      <td>120.257592</td>\n",
       "      <td>72.804810</td>\n",
       "    </tr>\n",
       "    <tr>\n",
       "      <th>6</th>\n",
       "      <td>BEL</td>\n",
       "      <td>3563371.0</td>\n",
       "      <td>6.60</td>\n",
       "      <td>5.437344e+11</td>\n",
       "      <td>11427054.0</td>\n",
       "      <td>377.379590</td>\n",
       "      <td>24.215460</td>\n",
       "    </tr>\n",
       "    <tr>\n",
       "      <th>7</th>\n",
       "      <td>BGD</td>\n",
       "      <td>7954176.0</td>\n",
       "      <td>1.31</td>\n",
       "      <td>2.740391e+11</td>\n",
       "      <td>161356039.0</td>\n",
       "      <td>1239.579312</td>\n",
       "      <td>76.501839</td>\n",
       "    </tr>\n",
       "    <tr>\n",
       "      <th>8</th>\n",
       "      <td>BGR</td>\n",
       "      <td>750899.0</td>\n",
       "      <td>2.56</td>\n",
       "      <td>6.623016e+10</td>\n",
       "      <td>7025037.0</td>\n",
       "      <td>64.711100</td>\n",
       "      <td>42.363476</td>\n",
       "    </tr>\n",
       "    <tr>\n",
       "      <th>9</th>\n",
       "      <td>BHR</td>\n",
       "      <td>1206763.0</td>\n",
       "      <td>31.14</td>\n",
       "      <td>3.765250e+10</td>\n",
       "      <td>1569439.0</td>\n",
       "      <td>2012.101282</td>\n",
       "      <td>41.167648</td>\n",
       "    </tr>\n",
       "  </tbody>\n",
       "</table>\n",
       "</div>"
      ],
      "text/plain": [
       "  iso_code  total_vaccinations  people_fully_vaccinated_per_hundred  \\\n",
       "0      ALB            400064.0                                 0.02   \n",
       "1      AND             26414.0                                 6.06   \n",
       "2      ARE          10336214.0                                38.79   \n",
       "3      ARG           7386650.0                                 1.95   \n",
       "4      AUT           2863389.0                                 8.73   \n",
       "5      AZE           1440243.0                                 4.87   \n",
       "6      BEL           3563371.0                                 6.60   \n",
       "7      BGD           7954176.0                                 1.31   \n",
       "8      BGR            750899.0                                 2.56   \n",
       "9      BHR           1206763.0                                31.14   \n",
       "\n",
       "            GDP    Total_Pop      Pop_Den  health_exp  \n",
       "0  1.514702e+10    2866376.0   104.612263   44.657787  \n",
       "1  3.218316e+09      77006.0   163.842553   32.065220  \n",
       "2  4.222150e+11    9630959.0   135.609110   48.421539  \n",
       "3  5.176267e+11   44494502.0    16.258510   38.290127  \n",
       "4  4.550949e+11    8840521.0   107.131859   26.914829  \n",
       "5  4.711294e+10    9939771.0   120.257592   72.804810  \n",
       "6  5.437344e+11   11427054.0   377.379590   24.215460  \n",
       "7  2.740391e+11  161356039.0  1239.579312   76.501839  \n",
       "8  6.623016e+10    7025037.0    64.711100   42.363476  \n",
       "9  3.765250e+10    1569439.0  2012.101282   41.167648  "
      ]
     },
     "execution_count": 3,
     "metadata": {},
     "output_type": "execute_result"
    }
   ],
   "source": [
    "iso_cleaned_df.head(10)"
   ]
  },
  {
   "cell_type": "markdown",
   "id": "53476d65",
   "metadata": {},
   "source": [
    "### Split Data by GDP quartiles"
   ]
  },
  {
   "cell_type": "code",
   "execution_count": 4,
   "id": "3970ede1",
   "metadata": {},
   "outputs": [],
   "source": [
    "# Cut data into GDP quartiles\n",
    "iso_cleaned_df['Bins'] = pd.qcut(iso_cleaned_df['GDP'],4,labels=['Q1','Q2','Q3','Q4'])"
   ]
  },
  {
   "cell_type": "code",
   "execution_count": 5,
   "id": "f9846f95",
   "metadata": {},
   "outputs": [
    {
     "data": {
      "text/plain": [
       "<AxesSubplot:xlabel='Bins'>"
      ]
     },
     "execution_count": 5,
     "metadata": {},
     "output_type": "execute_result"
    },
    {
     "data": {
      "image/png": "[encoded data removed]",
      "text/plain": [
       "<Figure size 432x288 with 1 Axes>"
      ]
     },
     "metadata": {
      "needs_background": "light"
     },
     "output_type": "display_data"
    }
   ],
   "source": [
    "# Group data by bins and look at mean vaccination\n",
    "iso_cleaned_df.groupby('Bins')['people_fully_vaccinated_per_hundred'].mean().plot(kind='bar')"
   ]
  },
  {
   "cell_type": "code",
   "execution_count": null,
   "id": "61c6efb9",
   "metadata": {},
   "outputs": [],
   "source": [
    "#more analysis needed\n",
    "#Break down into each quartile and run the linear regression below"
   ]
  },
  {
   "cell_type": "markdown",
   "id": "0d59b646",
   "metadata": {},
   "source": [
    "### Linear Regression for total vaccination percentage"
   ]
  },
  {
   "cell_type": "code",
   "execution_count": 6,
   "id": "f27330b6",
   "metadata": {},
   "outputs": [
    {
     "data": {
      "image/png": "[encoded data removed]",
      "text/plain": [
       "<Figure size 432x288 with 1 Axes>"
      ]
     },
     "metadata": {
      "needs_background": "light"
     },
     "output_type": "display_data"
    },
    {
     "data": {
      "image/png": "[encoded data removed]",
      "text/plain": [
       "<Figure size 432x288 with 1 Axes>"
      ]
     },
     "metadata": {
      "needs_background": "light"
     },
     "output_type": "display_data"
    },
    {
     "data": {
      "image/png": "[encoded data removed]",
      "text/plain": [
       "<Figure size 432x288 with 1 Axes>"
      ]
     },
     "metadata": {
      "needs_background": "light"
     },
     "output_type": "display_data"
    },
    {
     "data": {
      "image/png": "[encoded data removed]",
      "text/plain": [
       "<Figure size 432x288 with 1 Axes>"
      ]
     },
     "metadata": {
      "needs_background": "light"
     },
     "output_type": "display_data"
    }
   ],
   "source": [
    "# Linear Regression for each data series compared to Vaccinations per 100 people\n",
    "y_values = ['GDP','Total_Pop','Pop_Den','health_exp']\n",
    "for metric in y_values:\n",
    "    #\n",
    "    x1 = iso_cleaned_df['people_fully_vaccinated_per_hundred']\n",
    "    y1 = iso_cleaned_df[metric]\n",
    "    analysisDate = '05/03/2021'\n",
    "    \n",
    "    #lin reg line\n",
    "    slope, intercept, rvalue, pvalue, stderr = linregress(x1,y1)\n",
    "    z = range(0,100,10)\n",
    "    w = slope * z + intercept\n",
    "    \n",
    "    #Scatter plot and lin reg line\n",
    "    fig, ax = plt.subplots()\n",
    "    scatter = ax.scatter(x1, y1, s=20,color=(0,.75,.9),alpha=.6)\n",
    "    \n",
    "    plt.plot(z,w)\n",
    "    plt.text(1,.25,f'r = {round(rvalue,2)}', transform=plt.gcf().transFigure)\n",
    "    plt.text(1,.20,f'y = {round(slope,2)}x + {round(intercept,2)}', transform=plt.gcf().transFigure)\n",
    "    \n",
    "    #Formatting\n",
    "    plt.title('World Vaccination progress vs. '+y1.name + ' '+ analysisDate)\n",
    "    plt.xlabel(x1.name)\n",
    "    plt.ylabel(y1.name)\n",
    "    \n",
    "    #Save figure and display\n",
    "    plt.savefig(f'./Resources/Output/{x1.name}.{y1.name}Line.png')\n",
    "    plt.show()"
   ]
  },
  {
   "cell_type": "markdown",
   "id": "1d37fee5",
   "metadata": {},
   "source": [
    "### Best and Worst performing countries in vaccine deployment"
   ]
  },
  {
   "cell_type": "code",
   "execution_count": 7,
   "id": "7f2e50c8",
   "metadata": {},
   "outputs": [
    {
     "data": {
      "text/html": [
       "<div>\n",
       "<style scoped>\n",
       "    .dataframe tbody tr th:only-of-type {\n",
       "        vertical-align: middle;\n",
       "    }\n",
       "\n",
       "    .dataframe tbody tr th {\n",
       "        vertical-align: top;\n",
       "    }\n",
       "\n",
       "    .dataframe thead th {\n",
       "        text-align: right;\n",
       "    }\n",
       "</style>\n",
       "<table border=\"1\" class=\"dataframe\">\n",
       "  <thead>\n",
       "    <tr style=\"text-align: right;\">\n",
       "      <th></th>\n",
       "      <th>iso_code</th>\n",
       "      <th>people_fully_vaccinated_per_hundred</th>\n",
       "    </tr>\n",
       "  </thead>\n",
       "  <tbody>\n",
       "    <tr>\n",
       "      <th>45</th>\n",
       "      <td>ISR</td>\n",
       "      <td>58.63</td>\n",
       "    </tr>\n",
       "    <tr>\n",
       "      <th>88</th>\n",
       "      <td>SYC</td>\n",
       "      <td>58.21</td>\n",
       "    </tr>\n",
       "    <tr>\n",
       "      <th>2</th>\n",
       "      <td>ARE</td>\n",
       "      <td>38.79</td>\n",
       "    </tr>\n",
       "    <tr>\n",
       "      <th>15</th>\n",
       "      <td>CHL</td>\n",
       "      <td>33.11</td>\n",
       "    </tr>\n",
       "    <tr>\n",
       "      <th>9</th>\n",
       "      <td>BHR</td>\n",
       "      <td>31.14</td>\n",
       "    </tr>\n",
       "  </tbody>\n",
       "</table>\n",
       "</div>"
      ],
      "text/plain": [
       "   iso_code  people_fully_vaccinated_per_hundred\n",
       "45      ISR                                58.63\n",
       "88      SYC                                58.21\n",
       "2       ARE                                38.79\n",
       "15      CHL                                33.11\n",
       "9       BHR                                31.14"
      ]
     },
     "execution_count": 7,
     "metadata": {},
     "output_type": "execute_result"
    }
   ],
   "source": [
    "# Best performing countries\n",
    "# Use the initial dataset for this analysis since it doesnt require any indicators\n",
    "x = iso_cleaned_df[['iso_code','people_fully_vaccinated_per_hundred']]\n",
    "x.sort_values(by='people_fully_vaccinated_per_hundred',ascending=False).head(5)"
   ]
  },
  {
   "cell_type": "code",
   "execution_count": 8,
   "id": "5e764264",
   "metadata": {},
   "outputs": [
    {
     "data": {
      "text/html": [
       "<div>\n",
       "<style scoped>\n",
       "    .dataframe tbody tr th:only-of-type {\n",
       "        vertical-align: middle;\n",
       "    }\n",
       "\n",
       "    .dataframe tbody tr th {\n",
       "        vertical-align: top;\n",
       "    }\n",
       "\n",
       "    .dataframe thead th {\n",
       "        text-align: right;\n",
       "    }\n",
       "</style>\n",
       "<table border=\"1\" class=\"dataframe\">\n",
       "  <thead>\n",
       "    <tr style=\"text-align: right;\">\n",
       "      <th></th>\n",
       "      <th>iso_code</th>\n",
       "      <th>people_fully_vaccinated_per_hundred</th>\n",
       "    </tr>\n",
       "  </thead>\n",
       "  <tbody>\n",
       "    <tr>\n",
       "      <th>35</th>\n",
       "      <td>GTM</td>\n",
       "      <td>0.01</td>\n",
       "    </tr>\n",
       "    <tr>\n",
       "      <th>0</th>\n",
       "      <td>ALB</td>\n",
       "      <td>0.02</td>\n",
       "    </tr>\n",
       "    <tr>\n",
       "      <th>67</th>\n",
       "      <td>NAM</td>\n",
       "      <td>0.03</td>\n",
       "    </tr>\n",
       "    <tr>\n",
       "      <th>37</th>\n",
       "      <td>HND</td>\n",
       "      <td>0.03</td>\n",
       "    </tr>\n",
       "    <tr>\n",
       "      <th>81</th>\n",
       "      <td>SLE</td>\n",
       "      <td>0.07</td>\n",
       "    </tr>\n",
       "  </tbody>\n",
       "</table>\n",
       "</div>"
      ],
      "text/plain": [
       "   iso_code  people_fully_vaccinated_per_hundred\n",
       "35      GTM                                 0.01\n",
       "0       ALB                                 0.02\n",
       "67      NAM                                 0.03\n",
       "37      HND                                 0.03\n",
       "81      SLE                                 0.07"
      ]
     },
     "execution_count": 8,
     "metadata": {},
     "output_type": "execute_result"
    }
   ],
   "source": [
    "# Worst performing Contries\n",
    "x.sort_values(by='people_fully_vaccinated_per_hundred').head(5)"
   ]
  },
  {
   "cell_type": "code",
   "execution_count": null,
   "id": "aad449de",
   "metadata": {},
   "outputs": [],
   "source": []
  }
 ],
 "metadata": {
  "kernelspec": {
   "display_name": "Python 3",
   "language": "python",
   "name": "python3"
  },
  "language_info": {
   "codemirror_mode": {
    "name": "ipython",
    "version": 3
   },
   "file_extension": ".py",
   "mimetype": "text/x-python",
   "name": "python",
   "nbconvert_exporter": "python",
   "pygments_lexer": "ipython3",
   "version": "3.6.10"
  }
 },
 "nbformat": 4,
 "nbformat_minor": 5
}
